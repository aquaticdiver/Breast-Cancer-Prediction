{
 "cells": [
  {
   "cell_type": "code",
   "execution_count": null,
   "metadata": {
    "colab": {
     "base_uri": "https://localhost:8080/",
     "height": 70
    },
    "colab_type": "code",
    "id": "lHn4qjXFGfqw",
    "outputId": "d73c6424-bcb6-4999-c7e7-d1427f412466"
   },
   "outputs": [
    {
     "name": "stderr",
     "output_type": "stream",
     "text": [
      "/usr/local/lib/python3.6/dist-packages/statsmodels/compat/pandas.py:56: FutureWarning: The pandas.core.datetools module is deprecated and will be removed in a future version. Please use the pandas.tseries module instead.\n",
      "  from pandas.core import datetools\n"
     ]
    }
   ],
   "source": [
    "import pandas as pd\n",
    "import numpy as np\n",
    "import seaborn as sns\n",
    "import statsmodels.api as sm\n",
    "import matplotlib.pyplot as plt\n",
    "from sklearn import svm\n",
    "from sklearn.model_selection import train_test_split\n",
    "from sklearn import metrics\n",
    "pd.options.display.max_columns = 999"
   ]
  },
  {
   "cell_type": "code",
   "execution_count": null,
   "metadata": {
    "colab": {},
    "colab_type": "code",
    "id": "dkdPNsKbMVx0"
   },
   "outputs": [],
   "source": [
    "# label our diagnosis as 1 and 0 for training purposes M: 1 , B :0\n",
    "df['diagnosis'] = df.diagnosis.astype(\"category\").cat.codes\n",
    "df['diagnosis'] = df['diagnosis'].astype('float64')\n"
   ]
  },
  {
   "cell_type": "code",
   "execution_count": null,
   "metadata": {
    "colab": {},
    "colab_type": "code",
    "id": "PjR--XLIJUfd"
   },
   "outputs": [],
   "source": [
    "# drop independent variable and NaN column\n",
    "X = df.drop(['diagnosis','Unnamed: 32'], axis=1)\n",
    "# what we are predicting on\n",
    "y = df['diagnosis']"
   ]
  },
  {
   "cell_type": "code",
   "execution_count": null,
   "metadata": {
    "colab": {},
    "colab_type": "code",
    "id": "qyt0MDtzKGqT"
   },
   "outputs": [],
   "source": [
    "# percent of dataset saved for testing\n",
    "test_size = 0.33"
   ]
  },
  {
   "cell_type": "code",
   "execution_count": null,
   "metadata": {
    "colab": {},
    "colab_type": "code",
    "id": "MwZq2Mf9KOwE"
   },
   "outputs": [],
   "source": [
    "X_train, X_test, y_train, y_test = train_test_split(X,y, test_size=test_size, random_state=42))"
   ]
  },
  {
   "cell_type": "code",
   "execution_count": null,
   "metadata": {
    "colab": {},
    "colab_type": "code",
    "id": "Mxf-aRWfO2YV"
   },
   "outputs": [],
   "source": [
    "# make predictions for test data and evaluate\n",
    "y_pred = test.predict(X_test)\n",
    "predictions = [round(value) for value in y_pred]\n",
    "accuracy = accuracy_score(y_test, predictions)\n",
    "print(\"Accuracy: %.2f%%\" % (accuracy * 100.0))"
   ]
  },
  {
   "cell_type": "code",
   "execution_count": null,
   "metadata": {
    "colab": {},
    "colab_type": "code",
    "id": "DlmnNBP_Wori"
   },
   "outputs": [],
   "source": [
    "#data description with swarm plot\n",
    "sns.set(style='whitegrid', palette='muted')\n",
    "x_n = (x-x.mean())/(x.std())\n",
    "data = pd.concat([y, x_n], axis=1)\n",
    "data = pd.melt(data, id_vars='diagnosis', var_name='features', value_name='value')\n",
    "plt.figure(figsize=(30,10))\n",
    "sns.swarmplot(x='features', y='value', hue='diagnosis', data=data)\n",
    "plt.xticks(rotation=90)"
   ]
  },
  {
   "cell_type": "code",
   "execution_count": null,
   "metadata": {
    "colab": {},
    "colab_type": "code",
    "id": "B3XZFM9LPWvt"
   },
   "outputs": [],
   "source": [
    "#check correlation for multicollinearity\n",
    "corr=x.corr()\n",
    "plt.subplots(figsize=(18,18))\n",
    "sns.heatmap(corr,annot=True,fmt='.1f')"
   ]
  },
  {
   "cell_type": "code",
   "execution_count": null,
   "metadata": {
    "colab": {},
    "colab_type": "code",
    "id": "j6hoblffqhWc"
   },
   "outputs": [],
   "source": [
    "#select features\n",
    "drop_list=['perimeter_mean','radius_mean','compactness_mean','concave points_mean','radius_se','perimeter_se','compactness_se','concave points_se','radius_worst','perimeter_worst','compactness_worst','concave points_worst','area_worst','texture_worst']\n",
    "x_1=x.drop(drop_list,axis=1)"
   ]
  },
  {
   "cell_type": "code",
   "execution_count": null,
   "metadata": {
    "colab": {},
    "colab_type": "code",
    "id": "ghPJfUFf7hkE"
   },
   "outputs": [],
   "source": [
    "#feature elimination with cross validation and random forest\n",
    "from sklearn.feature_selection import RFECV\n",
    "clf_2 = RandomForestClassifier(n_estimators=100)\n",
    "rfecv = RFECV(estimator=clf_2, step=1, cv=5, scoring='accuracy')\n",
    "rfecv = rfecv.fit(x_train, y_train)\n",
    "\n",
    "print('optimal number of features: ', rfecv.n_features_)\n",
    "print('Best features: ', x_train.columns[rfecv.support_])"
   ]
  },
  {
   "cell_type": "code",
   "execution_count": null,
   "metadata": {
    "colab": {},
    "colab_type": "code",
    "id": "CaqMuOSZBwQT"
   },
   "outputs": [],
   "source": [
    "drop_list_2 = ['symmetry_mean', 'texture_se','smoothness_se']\n",
    "x_2 = x_1.drop(drop_list_2, axis=1)\n",
    "x_train, x_test, y_train, y_test = train_test_split(x_2, y, test_size=test_size)"
   ]
  },
  {
   "cell_type": "code",
   "execution_count": null,
   "metadata": {
    "colab": {},
    "colab_type": "code",
    "id": "DpJ0jcwaB53J"
   },
   "outputs": [],
   "source": [
    "\n",
    "test_2 = clf_2.fit(x_train, y_train)\n",
    "y_pred_2 = test_2.predict(x_test)\n",
    "predictions_2 = [round(value) for value in y_pred_2]\n",
    "accuracy = metrics.accuracy_score(y_test, predictions_2)\n",
    "print(\"Accuracy: %.2f%%\" % (accuracy * 100.0))"
   ]
  },
  {
   "cell_type": "code",
   "execution_count": null,
   "metadata": {
    "colab": {},
    "colab_type": "code",
    "id": "ey7KQM8TqYm3"
   },
   "outputs": [],
   "source": [
    "#feature importance\n",
    "featimp = pd.Series(clf_2.feature_importances_).sort_values(ascending=False)\n",
    "print(featimp)"
   ]
  },
  {
   "cell_type": "code",
   "execution_count": null,
   "metadata": {
    "colab": {},
    "colab_type": "code",
    "id": "sG5xS-DFqZoc"
   },
   "outputs": [],
   "source": [
    "#use only feature 3, 1, 5, 10\n",
    "x_3 = df[['area_mean','concavity_mean','area_se','concavity_worst']]\n",
    "x_train, x_test, y_train, y_test = train_test_split(x_3, y, test_size=0.33, random_state=42)\n",
    "test_3 = clf_2.fit(x_train, y_train)\n",
    "y_pred_3 = test_3.predict(x_test)\n",
    "predictions_3 = [round(value) for value in y_pred_3]\n",
    "accuracy = metrics.accuracy_score(y_test, predictions_3)\n",
    "print(\"Accuracy: %.2f%%\" % (accuracy * 100.0))\n",
    "recall = metrics.recall_score(y_test, predictions_3)\n",
    "print(\"Sensitivity: %.2f%%\" % (recall * 100.0))"
   ]
  },
  {
   "cell_type": "code",
   "execution_count": null,
   "metadata": {
    "colab": {},
    "colab_type": "code",
    "id": "aF5vp4jcahIZ"
   },
   "outputs": [],
   "source": [
    "#KNN\n",
    "\n",
    "from sklearn.neighbors import KNeighborsClassifier\n",
    "knn = KNeighborsClassifier(n_neighbors=5)\n",
    "knn.fit(x_train,y_train)\n",
    "y_pred4=knn.predict(x_test)\n",
    "predictions4 = [round(value) for value in y_pred4]\n",
    "accuracy = metrics.accuracy_score(y_test, predictions4)\n",
    "print(\"Accuracy: %.2f%%\" % (accuracy * 100.0))\n",
    "recall = metrics.recall_score(y_test, predictions4)\n",
    "print(\"Sensitivity: %.2f%%\" % (recall * 100.0))"
   ]
  },
  {
   "cell_type": "code",
   "execution_count": null,
   "metadata": {
    "colab": {},
    "colab_type": "code",
    "id": "lgJ4-v7cJmK5"
   },
   "outputs": [],
   "source": [
    "#AUC curve for Random Forest\n",
    "fpr, tpr, threshold = metrics.roc_curve(y_test, predictions_3)\n",
    "roc_auc = metrics.auc(fpr, tpr)\n",
    "\n",
    "plt.title('Area Under the Curve Random Forest')\n",
    "plt.plot(fpr, tpr, 'b', label = 'AUC = %0.2f' % roc_auc)\n",
    "plt.legend(loc = 'lower right')\n",
    "plt.plot([0, 1], [0, 1],'r--')\n",
    "plt.xlim([0, 1])\n",
    "plt.ylim([0, 1])\n",
    "plt.ylabel('True Positive Rate')\n",
    "plt.xlabel('False Positive Rate')\n",
    "plt.show()"
   ]
  },
  {
   "cell_type": "code",
   "execution_count": null,
   "metadata": {
    "colab": {},
    "colab_type": "code",
    "id": "ae9gLztaJmYL"
   },
   "outputs": [],
   "source": [
    "#AUC Curve for KNN\n",
    "fpr_2, tpr_2, threshold = metrics.roc_curve(y_test, predictions4)\n",
    "roc_auc_2 = metrics.auc(fpr_2, tpr_2)\n",
    "\n",
    "plt.title('Area Under the Curve KNN')\n",
    "plt.plot(fpr_2, tpr_2, 'b', label = 'AUC = %0.2f' % roc_auc_2)\n",
    "plt.legend(loc = 'lower right')\n",
    "plt.plot([0, 1], [0, 1],'r--')\n",
    "plt.xlim([0, 1])\n",
    "plt.ylim([0, 1])\n",
    "plt.ylabel('True Positive Rate')\n",
    "plt.xlabel('False Positive Rate')\n",
    "plt.show()"
   ]
  },
  {
   "cell_type": "code",
   "execution_count": null,
   "metadata": {
    "colab": {},
    "colab_type": "code",
    "id": "F5ijfYZvMnuE"
   },
   "outputs": [],
   "source": [
    "#SVM \n",
    "clf_1 = svm.SVC(kernel = 'linear')\n",
    "test_1 = clf_1.fit(X_train, y_train)\n",
    "\n",
    "y_pred1 = clf.predict(X_test)\n",
    "predictions1 = [round(value) for value in y_pred1]\n",
    "accuracy = metrics.accuracy_score(y_test, predictions1)\n",
    "print(\"Accuracy: %.2f%%\" % (accuracy * 100.0))\n",
    "recall = metrics.recall_score(y_test, predictions1)\n",
    "print(\"Sensitivity: %.2f%%\" % (recall * 100.0))"
   ]
  },
  {
   "cell_type": "code",
   "execution_count": null,
   "metadata": {
    "colab": {},
    "colab_type": "code",
    "id": "g-Pl56dUMnwn"
   },
   "outputs": [],
   "source": [
    "#AUC Curve for SVM\n",
    "fpr_3, tpr_3, threshold = metrics.roc_curve(y_test, predictions1)\n",
    "roc_auc_3 = metrics.auc(fpr_3, tpr_3)\n",
    "\n",
    "plt.title('Area Under the Curve KNN')\n",
    "plt.plot(fpr_3, tpr_3, 'b', label = 'AUC = %0.2f' % roc_auc_3)\n",
    "plt.legend(loc = 'lower right')\n",
    "plt.plot([0, 1], [0, 1],'r--')\n",
    "plt.xlim([0, 1])\n",
    "plt.ylim([0, 1])\n",
    "plt.ylabel('True Positive Rate')\n",
    "plt.xlabel('False Positive Rate')\n",
    "plt.show()"
   ]
  }
 ],
 "metadata": {
  "colab": {
   "name": "Data Mining.ipynb",
   "provenance": [],
   "version": "0.3.2"
  },
  "kernelspec": {
   "display_name": "Python 3",
   "language": "python",
   "name": "python3"
  },
  "language_info": {
   "codemirror_mode": {
    "name": "ipython",
    "version": 3
   },
   "file_extension": ".py",
   "mimetype": "text/x-python",
   "name": "python",
   "nbconvert_exporter": "python",
   "pygments_lexer": "ipython3",
   "version": "3.7.0"
  }
 },
 "nbformat": 4,
 "nbformat_minor": 2
}
